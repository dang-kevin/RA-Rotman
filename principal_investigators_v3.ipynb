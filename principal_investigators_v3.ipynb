{
 "cells": [
  {
   "cell_type": "code",
   "execution_count": null,
   "metadata": {},
   "outputs": [],
   "source": [
    "#import pandas as pd\n",
    "#import pybliometrics\n",
    "#pybliometrics.scopus.utils.create_config()\n",
    "\n",
    "#table3 = pd.read_csv('PI_table3.csv')\n",
    "#eid = list(set(table3['eid']))\n",
    "#len(eid)"
   ]
  },
  {
   "cell_type": "code",
   "execution_count": null,
   "metadata": {},
   "outputs": [],
   "source": [
    "#pi = pd.read_csv('PI_eidtopmid.csv')\n",
    "#eid_done = list(pi['eid'])\n",
    "#len(eid_done)"
   ]
  },
  {
   "cell_type": "code",
   "execution_count": 1,
   "metadata": {},
   "outputs": [
    {
     "data": {
      "text/plain": [
       "8456"
      ]
     },
     "execution_count": 1,
     "metadata": {},
     "output_type": "execute_result"
    }
   ],
   "source": [
    "import pandas as pd\n",
    "\n",
    "#eid_missing = list(set(eid)-set(eid_done))\n",
    "#pd.DataFrame(eid_missing).to_csv('PI_missing_eids2.csv',index=False)\n",
    "\n",
    "eid_missing = pd.read_csv('PI_missing_eids2.csv',header=None).iloc[:,0].tolist()\n",
    "len(eid_missing)"
   ]
  },
  {
   "cell_type": "code",
   "execution_count": 6,
   "metadata": {},
   "outputs": [],
   "source": [
    "from pybliometrics.scopus import AbstractRetrieval\n",
    "\n",
    "df = pd.DataFrame()\n",
    "df['eid'] = ''\n",
    "df['pmid'] = ''\n",
    "for i in range(8000,len(eid_missing)): # 8000 done\n",
    "    try:\n",
    "        df.loc[i,'eid'] = eid_missing[i]\n",
    "        df.loc[i,'pmid'] = AbstractRetrieval(eid_missing[i]).pubmed_id\n",
    "    except:\n",
    "        pass\n",
    "df.to_csv('PI_eidtopmid.csv',index=False,header=False,mode='a')"
   ]
  },
  {
   "cell_type": "code",
   "execution_count": null,
   "metadata": {},
   "outputs": [],
   "source": []
  }
 ],
 "metadata": {
  "kernelspec": {
   "display_name": "Python 3",
   "language": "python",
   "name": "python3"
  },
  "language_info": {
   "codemirror_mode": {
    "name": "ipython",
    "version": 3
   },
   "file_extension": ".py",
   "mimetype": "text/x-python",
   "name": "python",
   "nbconvert_exporter": "python",
   "pygments_lexer": "ipython3",
   "version": "3.6.4"
  }
 },
 "nbformat": 4,
 "nbformat_minor": 2
}
